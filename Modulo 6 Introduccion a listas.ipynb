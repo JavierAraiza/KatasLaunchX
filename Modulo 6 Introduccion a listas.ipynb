{
 "cells": [
  {
   "cell_type": "markdown",
   "metadata": {},
   "source": [
    "Ejercicio 1 Crear y usar listas de Python"
   ]
  },
  {
   "cell_type": "code",
   "execution_count": 10,
   "metadata": {},
   "outputs": [
    {
     "name": "stdout",
     "output_type": "stream",
     "text": [
      "Existen  8  planetas en el sistema solar\n"
     ]
    }
   ],
   "source": [
    "planetas = ['Mercurio','Venus','Tierra','Marte','Jupiter','Saturno','Urano','Neptuno' ]\n",
    "\n",
    "\n",
    "\n",
    "print (\"Existen \" , len(planetas) , \" planetas en el sistema solar\")"
   ]
  },
  {
   "cell_type": "code",
   "execution_count": 12,
   "metadata": {},
   "outputs": [
    {
     "name": "stdout",
     "output_type": "stream",
     "text": [
      "El primer planeta es:  Mercurio\n",
      "El segundo planeta es:  Venus\n",
      "El tercer planeta es:  Tierra\n",
      "El cuarto planeta es:  Marte\n",
      "El quinto planeta es:  Jupiter\n",
      "El sexto planeta es:  Saturno\n",
      "El septimo planeta es:  Urano\n",
      "El octavo planeta es:  Neptuno\n",
      "El noveno planeta es:  Pluton\n",
      "Existen 9 planetas en el sistema solar\n",
      "El ultimo planeta es:  Pluton\n"
     ]
    }
   ],
   "source": [
    "planetas = ['Mercurio','Venus','Tierra','Marte','Jupiter','Saturno','Urano','Neptuno' ]\n",
    "\n",
    "planetas.append('Pluton')\n",
    "numero_de_planetas = len(planetas)\n",
    "\n",
    "print('El primer planeta es: ', planetas[0])\n",
    "print('El segundo planeta es: ', planetas[1])\n",
    "print('El tercer planeta es: ', planetas[2])\n",
    "print('El cuarto planeta es: ', planetas[3])\n",
    "print('El quinto planeta es: ', planetas[4])\n",
    "print('El sexto planeta es: ', planetas[5])\n",
    "print('El septimo planeta es: ', planetas[6])\n",
    "print('El octavo planeta es: ', planetas[7])\n",
    "print('El noveno planeta es: ', planetas[8])\n",
    "\n",
    "\n",
    "print (\"Existen \" + str(numero_de_planetas) + \" planetas en el sistema solar\")\n",
    "print (\"El ultimo planeta es:  \" + planetas[-1])\n"
   ]
  },
  {
   "cell_type": "markdown",
   "metadata": {},
   "source": [
    "Ejercicio 2 Trabajando con datos de una lista"
   ]
  },
  {
   "cell_type": "code",
   "execution_count": 15,
   "metadata": {},
   "outputs": [
    {
     "name": "stdout",
     "output_type": "stream",
     "text": [
      "Los planetas mas cercanos al sol: Marte\n",
      "['Mercurio', 'Venus', 'Tierra']\n",
      "Los planetas mas alejados al sol: Marte\n",
      "['Jupiter', 'Saturno', 'Urano', 'Neptuno']\n"
     ]
    }
   ],
   "source": [
    "planetas = ['Mercurio','Venus','Tierra','Marte','Jupiter','Saturno','Urano','Neptuno' ]\n",
    "\n",
    "planetas_ing = input (\"Usa una letra mayuscula para comenzar el nombre del planeta\")\n",
    "planetas_bus = planetas.index(planetas_ing)\n",
    "\n",
    "print('Los planetas mas cercanos al sol: ' + planetas_ing)\n",
    "print(planetas[0:planetas_bus])\n",
    "\n",
    "print('Los planetas mas alejados al sol: ' + planetas_ing)\n",
    "print(planetas[planetas_bus +1:])\n",
    "\n",
    "\n"
   ]
  }
 ],
 "metadata": {
  "interpreter": {
   "hash": "a971920cdc265c9a7009fd1302f7fe2f79b5dfd7ed2cac353eb619c7b8908454"
  },
  "kernelspec": {
   "display_name": "Python 3.10.2 64-bit",
   "language": "python",
   "name": "python3"
  },
  "language_info": {
   "codemirror_mode": {
    "name": "ipython",
    "version": 3
   },
   "file_extension": ".py",
   "mimetype": "text/x-python",
   "name": "python",
   "nbconvert_exporter": "python",
   "pygments_lexer": "ipython3",
   "version": "3.10.2"
  },
  "orig_nbformat": 4
 },
 "nbformat": 4,
 "nbformat_minor": 2
}
