{
 "cells": [
  {
   "cell_type": "markdown",
   "metadata": {},
   "source": [
    "# Ejercicio 1 - Utilizar operadores aritmeticos "
   ]
  },
  {
   "cell_type": "code",
   "execution_count": 8,
   "metadata": {},
   "outputs": [
    {
     "name": "stdout",
     "output_type": "stream",
     "text": [
      "La distancia de Jupiter a la tierra es de :628949330 km\n",
      "La distancia de Jupiter a la tierra en millas es de :628949330 mi\n"
     ]
    }
   ],
   "source": [
    "Tierra = 149597870\n",
    "Jupiter = 778547200\n",
    "Distancia = Jupiter - Tierra\n",
    "Distancia_mi = Distancia * 0.621\n",
    "print (\"La distancia de Jupiter a la tierra es de :\"+ str( Distancia) + \" km\")\n",
    "print (\"La distancia de Jupiter a la tierra en millas es de :\"+ str( Distancia) + \" mi\")\n"
   ]
  },
  {
   "cell_type": "code",
   "execution_count": 10,
   "metadata": {},
   "outputs": [],
   "source": [
    "pp = input ('Introduce la distancia del sol para el primer planeta')\n",
    "sp = input ('Introduce la distancia del sol para el segundo planeta')\n",
    "\n",
    "#Convirtiendo cadenas a numeros enteros\n",
    "\n",
    "pp = int (pp)\n",
    "sp = int (sp)\n",
    " #Distancias\n",
    "distancia = sp - pp \n",
    "print = (\"la distancia entre planetas es de : \" + str(distancia) + \" km\" )\n",
    "\n",
    "distancia_mi = distancia * 0.621\n",
    "print = (\"la distancia entre planetas es de : \" + str(distancia_mi) + \" km\" )"
   ]
  }
 ],
 "metadata": {
  "interpreter": {
   "hash": "a971920cdc265c9a7009fd1302f7fe2f79b5dfd7ed2cac353eb619c7b8908454"
  },
  "kernelspec": {
   "display_name": "Python 3.10.2 64-bit",
   "language": "python",
   "name": "python3"
  },
  "language_info": {
   "codemirror_mode": {
    "name": "ipython",
    "version": 3
   },
   "file_extension": ".py",
   "mimetype": "text/x-python",
   "name": "python",
   "nbconvert_exporter": "python",
   "pygments_lexer": "ipython3",
   "version": "3.10.2"
  },
  "orig_nbformat": 4
 },
 "nbformat": 4,
 "nbformat_minor": 2
}
