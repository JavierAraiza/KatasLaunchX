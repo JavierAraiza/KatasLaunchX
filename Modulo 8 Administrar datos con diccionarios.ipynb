{
 "cells": [
  {
   "cell_type": "markdown",
   "metadata": {},
   "source": [
    "Ejercicio 1 Creacion de diccionarios de Python"
   ]
  },
  {
   "cell_type": "code",
   "execution_count": 3,
   "metadata": {},
   "outputs": [
    {
     "name": "stdout",
     "output_type": "stream",
     "text": [
      "marte tiene 2 lunas\n",
      "marte tiene una circunferencia polar de  6752\n"
     ]
    }
   ],
   "source": [
    "planeta = {\n",
    "    'nombre' : 'marte',\n",
    "    'lunas': 2\n",
    "}\n",
    "\n",
    "print(f'{planeta[\"nombre\"]} tiene {planeta[\"lunas\"]} lunas')\n",
    "\n",
    "planeta['circunferencia (km)'] = {\n",
    "    'polar' : 6752,\n",
    "    'ecuatorial':6792\n",
    "}\n",
    "\n",
    "print(f'{planeta[\"nombre\"]} tiene una circunferencia polar de  {planeta[\"circunferencia (km)\"][\"polar\"]}')"
   ]
  },
  {
   "cell_type": "markdown",
   "metadata": {},
   "source": [
    "Ejercicio 2"
   ]
  },
  {
   "cell_type": "code",
   "execution_count": 4,
   "metadata": {},
   "outputs": [
    {
     "name": "stdout",
     "output_type": "stream",
     "text": [
      "0.0\n",
      "0.0\n",
      "0.08333333333333333\n",
      "0.25\n",
      "6.833333333333333\n",
      "13.666666666666666\n",
      "15.916666666666666\n",
      "17.083333333333332\n",
      "17.5\n",
      "17.666666666666668\n",
      "17.75\n",
      "17.833333333333332\n"
     ]
    }
   ],
   "source": [
    "lunas_planetas = {\n",
    "    'mercurio': 0,\n",
    "    'venus': 0,\n",
    "    'tierra': 1,\n",
    "    'marte': 2,\n",
    "    'jupiter': 79,\n",
    "    'saturno': 82,\n",
    "    'urano': 27,\n",
    "    'neptuno': 14,\n",
    "    'pluton': 5,\n",
    "    'haumea': 2,\n",
    "    'makemake': 1,\n",
    "    'eris': 1\n",
    "}\n",
    "\n",
    "lunas = lunas_planetas.values()\n",
    "\n",
    "planetas = len(lunas_planetas.keys())\n",
    "\n",
    "total_lunas=0\n",
    "for luna in lunas:\n",
    "    total_lunas = total_lunas + luna\n",
    "\n",
    "    promedio = total_lunas / planetas\n",
    "\n",
    "    print (promedio)\n"
   ]
  }
 ],
 "metadata": {
  "interpreter": {
   "hash": "a971920cdc265c9a7009fd1302f7fe2f79b5dfd7ed2cac353eb619c7b8908454"
  },
  "kernelspec": {
   "display_name": "Python 3.10.2 64-bit",
   "language": "python",
   "name": "python3"
  },
  "language_info": {
   "codemirror_mode": {
    "name": "ipython",
    "version": 3
   },
   "file_extension": ".py",
   "mimetype": "text/x-python",
   "name": "python",
   "nbconvert_exporter": "python",
   "pygments_lexer": "ipython3",
   "version": "3.10.2"
  },
  "orig_nbformat": 4
 },
 "nbformat": 4,
 "nbformat_minor": 2
}
