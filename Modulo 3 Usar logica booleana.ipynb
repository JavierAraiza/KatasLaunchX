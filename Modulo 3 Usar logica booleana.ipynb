{
 "cells": [
  {
   "cell_type": "markdown",
   "metadata": {},
   "source": [
    "# Ejercicio - Escribir declaraciones if, else, y elif"
   ]
  },
  {
   "cell_type": "code",
   "execution_count": 1,
   "metadata": {},
   "outputs": [
    {
     "name": "stdout",
     "output_type": "stream",
     "text": [
      "¡Un asteroide se acerca velozmente a la tierra!\n"
     ]
    }
   ],
   "source": [
    "a = 49 #asteroide \n",
    "if a > 25:\n",
    "    print('¡Un asteroide se acerca velozmente a la tierra!')\n",
    "else:\n",
    "    print ('Todo bien!')\n"
   ]
  },
  {
   "cell_type": "markdown",
   "metadata": {},
   "source": [
    "Problema No 2"
   ]
  },
  {
   "cell_type": "code",
   "execution_count": 3,
   "metadata": {},
   "outputs": [
    {
     "name": "stdout",
     "output_type": "stream",
     "text": [
      "¡No aparecio la luz!\n"
     ]
    }
   ],
   "source": [
    "a = 19 #asteroide\n",
    "if a > 20:\n",
    "    print(' ¡Hay una luz  en el cielo!')\n",
    "elif a == 20:\n",
    "    print('¡Hay una luz  en el cielo!')\n",
    "else:\n",
    "    print('¡No aparecio la luz!')"
   ]
  },
  {
   "cell_type": "markdown",
   "metadata": {},
   "source": [
    "Problema No 3"
   ]
  },
  {
   "cell_type": "code",
   "execution_count": null,
   "metadata": {},
   "outputs": [],
   "source": [
    "v_a = 25\n",
    "t_a = 40\n",
    "if v_a > 25 and t_a > 25:\n",
    "    print('¡Alerta, Un asteroide muy peligroso viene hacia la Tierra!')\n",
    "elif v_a >= 20:\n",
    "    print('¡Hay una luz mágica en el cielo!')\n",
    "elif t_a < 25:\n",
    "    print('Nada que ver aquí :)')\n",
    "else:\n",
    "    print('Nada que ver aquí :)')"
   ]
  }
 ],
 "metadata": {
  "interpreter": {
   "hash": "a971920cdc265c9a7009fd1302f7fe2f79b5dfd7ed2cac353eb619c7b8908454"
  },
  "kernelspec": {
   "display_name": "Python 3.10.2 64-bit",
   "language": "python",
   "name": "python3"
  },
  "language_info": {
   "codemirror_mode": {
    "name": "ipython",
    "version": 3
   },
   "file_extension": ".py",
   "mimetype": "text/x-python",
   "name": "python",
   "nbconvert_exporter": "python",
   "pygments_lexer": "ipython3",
   "version": "3.10.2"
  },
  "orig_nbformat": 4
 },
 "nbformat": 4,
 "nbformat_minor": 2
}
